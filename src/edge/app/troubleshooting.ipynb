{
 "cells": [
  {
   "cell_type": "code",
   "execution_count": null,
   "id": "ed942a62-fecf-4c1c-ae88-488f10fb7352",
   "metadata": {},
   "outputs": [],
   "source": [
    "import grpc\n",
    "import logging\n",
    "import agent_pb2  as agent\n",
    "import agent_pb2_grpc as agent_grpc\n",
    "import struct\n",
    "import numpy as np\n",
    "import uuid"
   ]
  },
  {
   "cell_type": "code",
   "execution_count": null,
   "id": "d583fb05-c974-45ae-8b5c-63226ba68f4c",
   "metadata": {},
   "outputs": [],
   "source": [
    "channel_path = '/tmp/aws.greengrass.SageMakerEdgeManager.sock'\n",
    "channel = grpc.insecure_channel('unix://%s' % channel_path )\n",
    "a = agent_grpc.AgentStub(channel)"
   ]
  },
  {
   "cell_type": "code",
   "execution_count": null,
   "id": "a6e6b608-6ca1-49b8-818c-6ffdc5a43942",
   "metadata": {},
   "outputs": [],
   "source": [
    "a.ListModels(agent.ListModelsRequest())"
   ]
  },
  {
   "cell_type": "code",
   "execution_count": null,
   "id": "78941ee4-0cd0-49a1-a1dc-f728e8406965",
   "metadata": {},
   "outputs": [],
   "source": [
    "req = agent.LoadModelRequest()\n",
    "req.url = '/greengrass/v2/work/aws.example.model.defect_detection'\n",
    "req.name = 'img-classification-8'\n",
    "resp = a.LoadModel(req)"
   ]
  },
  {
   "cell_type": "code",
   "execution_count": null,
   "id": "2ee3e98e-c9ba-4a35-b066-da488b833963",
   "metadata": {},
   "outputs": [],
   "source": []
  },
  {
   "cell_type": "code",
   "execution_count": null,
   "id": "399a5d4a-678b-42cc-8901-6b989d6374e7",
   "metadata": {},
   "outputs": [],
   "source": [
    "req = agent.UnLoadModelRequest()\n",
    "req.name = 'img-classification-8'\n",
    "a.UnLoadModel(req)"
   ]
  },
  {
   "cell_type": "code",
   "execution_count": null,
   "id": "b9f6658d-44f9-4470-9603-11cedd2978d1",
   "metadata": {},
   "outputs": [],
   "source": []
  }
 ],
 "metadata": {
  "kernelspec": {
   "display_name": "Python 3",
   "language": "python",
   "name": "python3"
  },
  "language_info": {
   "codemirror_mode": {
    "name": "ipython",
    "version": 3
   },
   "file_extension": ".py",
   "mimetype": "text/x-python",
   "name": "python",
   "nbconvert_exporter": "python",
   "pygments_lexer": "ipython3",
   "version": "3.6.9"
  }
 },
 "nbformat": 4,
 "nbformat_minor": 5
}
